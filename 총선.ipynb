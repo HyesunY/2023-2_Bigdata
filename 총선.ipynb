{
 "cells": [
  {
   "cell_type": "code",
   "execution_count": 1,
   "metadata": {
    "colab": {
     "base_uri": "https://localhost:8080/"
    },
    "collapsed": true,
    "id": "kTjlFNQAJfmN",
    "outputId": "7287113d-b499-4550-fb7c-4fac3ef735ce"
   },
   "outputs": [
    {
     "name": "stdout",
     "output_type": "stream",
     "text": [
      "Requirement already satisfied: pandas in c:\\users\\hyeee\\anaconda3\\envs\\deeplearningplatform_2023_fall\\lib\\site-packages (2.1.1)\n",
      "Requirement already satisfied: scikit-learn in c:\\users\\hyeee\\anaconda3\\envs\\deeplearningplatform_2023_fall\\lib\\site-packages (1.3.0)\n",
      "Requirement already satisfied: numpy>=1.23.2 in c:\\users\\hyeee\\anaconda3\\envs\\deeplearningplatform_2023_fall\\lib\\site-packages (from pandas) (1.24.3)\n",
      "Requirement already satisfied: python-dateutil>=2.8.2 in c:\\users\\hyeee\\anaconda3\\envs\\deeplearningplatform_2023_fall\\lib\\site-packages (from pandas) (2.8.2)\n",
      "Requirement already satisfied: pytz>=2020.1 in c:\\users\\hyeee\\anaconda3\\envs\\deeplearningplatform_2023_fall\\lib\\site-packages (from pandas) (2023.3.post1)\n",
      "Requirement already satisfied: tzdata>=2022.1 in c:\\users\\hyeee\\anaconda3\\envs\\deeplearningplatform_2023_fall\\lib\\site-packages (from pandas) (2023.3)\n",
      "Requirement already satisfied: scipy>=1.5.0 in c:\\users\\hyeee\\anaconda3\\envs\\deeplearningplatform_2023_fall\\lib\\site-packages (from scikit-learn) (1.11.3)\n",
      "Requirement already satisfied: joblib>=1.1.1 in c:\\users\\hyeee\\anaconda3\\envs\\deeplearningplatform_2023_fall\\lib\\site-packages (from scikit-learn) (1.2.0)\n",
      "Requirement already satisfied: threadpoolctl>=2.0.0 in c:\\users\\hyeee\\anaconda3\\envs\\deeplearningplatform_2023_fall\\lib\\site-packages (from scikit-learn) (2.2.0)\n",
      "Requirement already satisfied: six>=1.5 in c:\\users\\hyeee\\anaconda3\\envs\\deeplearningplatform_2023_fall\\lib\\site-packages (from python-dateutil>=2.8.2->pandas) (1.16.0)\n"
     ]
    }
   ],
   "source": [
    "!pip install pandas scikit-learn"
   ]
  },
  {
   "cell_type": "code",
   "execution_count": 5,
   "metadata": {
    "id": "2UEktJq3Jmoh"
   },
   "outputs": [],
   "source": [
    "import pandas as pd\n",
    "from sklearn.model_selection import train_test_split\n",
    "from sklearn.ensemble import RandomForestRegressor\n",
    "from sklearn.linear_model import LinearRegression"
   ]
  },
  {
   "cell_type": "markdown",
   "metadata": {},
   "source": [
    "# 21대 의석 예측\n",
    "라벨에서 1개씩 빼고 진행"
   ]
  },
  {
   "cell_type": "code",
   "execution_count": 81,
   "metadata": {},
   "outputs": [
    {
     "data": {
      "text/html": [
       "<style>#sk-container-id-15 {color: black;}#sk-container-id-15 pre{padding: 0;}#sk-container-id-15 div.sk-toggleable {background-color: white;}#sk-container-id-15 label.sk-toggleable__label {cursor: pointer;display: block;width: 100%;margin-bottom: 0;padding: 0.3em;box-sizing: border-box;text-align: center;}#sk-container-id-15 label.sk-toggleable__label-arrow:before {content: \"▸\";float: left;margin-right: 0.25em;color: #696969;}#sk-container-id-15 label.sk-toggleable__label-arrow:hover:before {color: black;}#sk-container-id-15 div.sk-estimator:hover label.sk-toggleable__label-arrow:before {color: black;}#sk-container-id-15 div.sk-toggleable__content {max-height: 0;max-width: 0;overflow: hidden;text-align: left;background-color: #f0f8ff;}#sk-container-id-15 div.sk-toggleable__content pre {margin: 0.2em;color: black;border-radius: 0.25em;background-color: #f0f8ff;}#sk-container-id-15 input.sk-toggleable__control:checked~div.sk-toggleable__content {max-height: 200px;max-width: 100%;overflow: auto;}#sk-container-id-15 input.sk-toggleable__control:checked~label.sk-toggleable__label-arrow:before {content: \"▾\";}#sk-container-id-15 div.sk-estimator input.sk-toggleable__control:checked~label.sk-toggleable__label {background-color: #d4ebff;}#sk-container-id-15 div.sk-label input.sk-toggleable__control:checked~label.sk-toggleable__label {background-color: #d4ebff;}#sk-container-id-15 input.sk-hidden--visually {border: 0;clip: rect(1px 1px 1px 1px);clip: rect(1px, 1px, 1px, 1px);height: 1px;margin: -1px;overflow: hidden;padding: 0;position: absolute;width: 1px;}#sk-container-id-15 div.sk-estimator {font-family: monospace;background-color: #f0f8ff;border: 1px dotted black;border-radius: 0.25em;box-sizing: border-box;margin-bottom: 0.5em;}#sk-container-id-15 div.sk-estimator:hover {background-color: #d4ebff;}#sk-container-id-15 div.sk-parallel-item::after {content: \"\";width: 100%;border-bottom: 1px solid gray;flex-grow: 1;}#sk-container-id-15 div.sk-label:hover label.sk-toggleable__label {background-color: #d4ebff;}#sk-container-id-15 div.sk-serial::before {content: \"\";position: absolute;border-left: 1px solid gray;box-sizing: border-box;top: 0;bottom: 0;left: 50%;z-index: 0;}#sk-container-id-15 div.sk-serial {display: flex;flex-direction: column;align-items: center;background-color: white;padding-right: 0.2em;padding-left: 0.2em;position: relative;}#sk-container-id-15 div.sk-item {position: relative;z-index: 1;}#sk-container-id-15 div.sk-parallel {display: flex;align-items: stretch;justify-content: center;background-color: white;position: relative;}#sk-container-id-15 div.sk-item::before, #sk-container-id-15 div.sk-parallel-item::before {content: \"\";position: absolute;border-left: 1px solid gray;box-sizing: border-box;top: 0;bottom: 0;left: 50%;z-index: -1;}#sk-container-id-15 div.sk-parallel-item {display: flex;flex-direction: column;z-index: 1;position: relative;background-color: white;}#sk-container-id-15 div.sk-parallel-item:first-child::after {align-self: flex-end;width: 50%;}#sk-container-id-15 div.sk-parallel-item:last-child::after {align-self: flex-start;width: 50%;}#sk-container-id-15 div.sk-parallel-item:only-child::after {width: 0;}#sk-container-id-15 div.sk-dashed-wrapped {border: 1px dashed gray;margin: 0 0.4em 0.5em 0.4em;box-sizing: border-box;padding-bottom: 0.4em;background-color: white;}#sk-container-id-15 div.sk-label label {font-family: monospace;font-weight: bold;display: inline-block;line-height: 1.2em;}#sk-container-id-15 div.sk-label-container {text-align: center;}#sk-container-id-15 div.sk-container {/* jupyter's `normalize.less` sets `[hidden] { display: none; }` but bootstrap.min.css set `[hidden] { display: none !important; }` so we also need the `!important` here to be able to override the default hidden behavior on the sphinx rendered scikit-learn.org. See: https://github.com/scikit-learn/scikit-learn/issues/21755 */display: inline-block !important;position: relative;}#sk-container-id-15 div.sk-text-repr-fallback {display: none;}</style><div id=\"sk-container-id-15\" class=\"sk-top-container\"><div class=\"sk-text-repr-fallback\"><pre>RandomForestRegressor(random_state=42)</pre><b>In a Jupyter environment, please rerun this cell to show the HTML representation or trust the notebook. <br />On GitHub, the HTML representation is unable to render, please try loading this page with nbviewer.org.</b></div><div class=\"sk-container\" hidden><div class=\"sk-item\"><div class=\"sk-estimator sk-toggleable\"><input class=\"sk-toggleable__control sk-hidden--visually\" id=\"sk-estimator-id-15\" type=\"checkbox\" checked><label for=\"sk-estimator-id-15\" class=\"sk-toggleable__label sk-toggleable__label-arrow\">RandomForestRegressor</label><div class=\"sk-toggleable__content\"><pre>RandomForestRegressor(random_state=42)</pre></div></div></div></div></div>"
      ],
      "text/plain": [
       "RandomForestRegressor(random_state=42)"
      ]
     },
     "execution_count": 81,
     "metadata": {},
     "output_type": "execute_result"
    }
   ],
   "source": [
    "data = {\n",
    "    '대수': [17, 18, 19, 20],\n",
    "    'a': [100, 131, 127, 105],\n",
    "    'b': [129, 66, 106, 110],\n",
    "    'c': [14, 47, 13, 38],\n",
    "    '총석수': [243, 244, 253, 253]\n",
    "}\n",
    "\n",
    "df = pd.DataFrame(data)\n",
    "# 17대 18대 데이터를 253석 비율에 맞게 수정하기\n",
    "df['a'] = df['a'] / df['총석수'] * 253\n",
    "df['b'] = df['b'] / df['총석수'] * 253\n",
    "df['c'] = df['c'] / df['총석수'] * 253\n",
    "\n",
    "# 훈련 데이터 및 레이블 생성\n",
    "X = df[['대수']]\n",
    "y_a = df['a']\n",
    "y_b = df['b']\n",
    "y_c = df['c']\n",
    "\n",
    "# 머신러닝 모델 훈련\n",
    "model_a = RandomForestRegressor(n_estimators=100, random_state=42)\n",
    "model_a.fit(X, y_a)\n",
    "\n",
    "model_b = RandomForestRegressor(n_estimators=100, random_state=42)\n",
    "model_b.fit(X, y_b)\n",
    "\n",
    "model_c = RandomForestRegressor(n_estimators=100, random_state=42)\n",
    "model_c.fit(X, y_c)"
   ]
  },
  {
   "cell_type": "code",
   "execution_count": 75,
   "metadata": {},
   "outputs": [
    {
     "name": "stdout",
     "output_type": "stream",
     "text": [
      "21대 지역구 예상 의석 - A: 113, B: 107, C: 34\n"
     ]
    }
   ],
   "source": [
    "# 21대 의석 예측\n",
    "future_data = {'대수': [21]}\n",
    "future_df = pd.DataFrame(future_data)\n",
    "\n",
    "predicted_a = model_a.predict(future_df)[0]\n",
    "predicted_b = model_b.predict(future_df)[0]\n",
    "predicted_c = model_c.predict(future_df)[0]\n",
    "\n",
    "# 예측값을 반올림하고, 합이 253이 되도록 조정\n",
    "total_predicted_seats = round(predicted_a) + round(predicted_b) + round(predicted_c)\n",
    "\n",
    "# 각 정당 예측 의석수를 조정\n",
    "predicted_a = round(predicted_a + (253 - total_predicted_seats) * (predicted_a / total_predicted_seats))\n",
    "predicted_b = round(predicted_b + (253 - total_predicted_seats) * (predicted_b / total_predicted_seats))\n",
    "predicted_c = round(predicted_c + (253 - total_predicted_seats) * (predicted_c / total_predicted_seats))\n",
    "\n",
    "print(f\"21대 지역구 예상 의석 - A: {int(predicted_a)}, B: {int(predicted_b)}, C: {int(predicted_c)}\")"
   ]
  },
  {
   "cell_type": "code",
   "execution_count": 77,
   "metadata": {
    "scrolled": true
   },
   "outputs": [
    {
     "ename": "KeyError",
     "evalue": "4",
     "output_type": "error",
     "traceback": [
      "\u001b[1;31m---------------------------------------------------------------------------\u001b[0m",
      "\u001b[1;31mKeyError\u001b[0m                                  Traceback (most recent call last)",
      "File \u001b[1;32m~\\anaconda3\\envs\\deeplearningplatform_2023_fall\\Lib\\site-packages\\pandas\\core\\indexes\\base.py:3790\u001b[0m, in \u001b[0;36mIndex.get_loc\u001b[1;34m(self, key)\u001b[0m\n\u001b[0;32m   3789\u001b[0m \u001b[38;5;28;01mtry\u001b[39;00m:\n\u001b[1;32m-> 3790\u001b[0m     \u001b[38;5;28;01mreturn\u001b[39;00m \u001b[38;5;28mself\u001b[39m\u001b[38;5;241m.\u001b[39m_engine\u001b[38;5;241m.\u001b[39mget_loc(casted_key)\n\u001b[0;32m   3791\u001b[0m \u001b[38;5;28;01mexcept\u001b[39;00m \u001b[38;5;167;01mKeyError\u001b[39;00m \u001b[38;5;28;01mas\u001b[39;00m err:\n",
      "File \u001b[1;32mindex.pyx:152\u001b[0m, in \u001b[0;36mpandas._libs.index.IndexEngine.get_loc\u001b[1;34m()\u001b[0m\n",
      "File \u001b[1;32mindex.pyx:181\u001b[0m, in \u001b[0;36mpandas._libs.index.IndexEngine.get_loc\u001b[1;34m()\u001b[0m\n",
      "File \u001b[1;32mpandas\\_libs\\hashtable_class_helper.pxi:2606\u001b[0m, in \u001b[0;36mpandas._libs.hashtable.Int64HashTable.get_item\u001b[1;34m()\u001b[0m\n",
      "File \u001b[1;32mpandas\\_libs\\hashtable_class_helper.pxi:2630\u001b[0m, in \u001b[0;36mpandas._libs.hashtable.Int64HashTable.get_item\u001b[1;34m()\u001b[0m\n",
      "\u001b[1;31mKeyError\u001b[0m: 4",
      "\nThe above exception was the direct cause of the following exception:\n",
      "\u001b[1;31mKeyError\u001b[0m                                  Traceback (most recent call last)",
      "Cell \u001b[1;32mIn[77], line 18\u001b[0m\n\u001b[0;32m     16\u001b[0m plt\u001b[38;5;241m.\u001b[39msubplot(\u001b[38;5;241m1\u001b[39m, \u001b[38;5;241m3\u001b[39m, \u001b[38;5;241m1\u001b[39m)\n\u001b[0;32m     17\u001b[0m plt\u001b[38;5;241m.\u001b[39mscatter(df[\u001b[38;5;124m'\u001b[39m\u001b[38;5;124m대수\u001b[39m\u001b[38;5;124m'\u001b[39m][:\u001b[38;5;241m4\u001b[39m], df[\u001b[38;5;124m'\u001b[39m\u001b[38;5;124ma\u001b[39m\u001b[38;5;124m'\u001b[39m][:\u001b[38;5;241m4\u001b[39m], color\u001b[38;5;241m=\u001b[39m\u001b[38;5;124m'\u001b[39m\u001b[38;5;124mblue\u001b[39m\u001b[38;5;124m'\u001b[39m, label\u001b[38;5;241m=\u001b[39m\u001b[38;5;124m'\u001b[39m\u001b[38;5;124mActual (17-20)\u001b[39m\u001b[38;5;124m'\u001b[39m)\n\u001b[1;32m---> 18\u001b[0m plt\u001b[38;5;241m.\u001b[39mscatter(df[\u001b[38;5;124m'\u001b[39m\u001b[38;5;124m대수\u001b[39m\u001b[38;5;124m'\u001b[39m][\u001b[38;5;241m4\u001b[39m], df[\u001b[38;5;124m'\u001b[39m\u001b[38;5;124ma\u001b[39m\u001b[38;5;124m'\u001b[39m][\u001b[38;5;241m4\u001b[39m], color\u001b[38;5;241m=\u001b[39m\u001b[38;5;124m'\u001b[39m\u001b[38;5;124mgreen\u001b[39m\u001b[38;5;124m'\u001b[39m, label\u001b[38;5;241m=\u001b[39m\u001b[38;5;124m'\u001b[39m\u001b[38;5;124mPredicted (21)\u001b[39m\u001b[38;5;124m'\u001b[39m)\n\u001b[0;32m     19\u001b[0m plt\u001b[38;5;241m.\u001b[39mscatter(df[\u001b[38;5;124m'\u001b[39m\u001b[38;5;124m대수\u001b[39m\u001b[38;5;124m'\u001b[39m][\u001b[38;5;241m5\u001b[39m], df[\u001b[38;5;124m'\u001b[39m\u001b[38;5;124ma\u001b[39m\u001b[38;5;124m'\u001b[39m][\u001b[38;5;241m5\u001b[39m], color\u001b[38;5;241m=\u001b[39m\u001b[38;5;124m'\u001b[39m\u001b[38;5;124mred\u001b[39m\u001b[38;5;124m'\u001b[39m, label\u001b[38;5;241m=\u001b[39m\u001b[38;5;124m'\u001b[39m\u001b[38;5;124mActual (21)\u001b[39m\u001b[38;5;124m'\u001b[39m)\n\u001b[0;32m     20\u001b[0m plt\u001b[38;5;241m.\u001b[39mtitle(\u001b[38;5;124m'\u001b[39m\u001b[38;5;124mActual vs Predicted for a\u001b[39m\u001b[38;5;124m'\u001b[39m)\n",
      "File \u001b[1;32m~\\anaconda3\\envs\\deeplearningplatform_2023_fall\\Lib\\site-packages\\pandas\\core\\series.py:1040\u001b[0m, in \u001b[0;36mSeries.__getitem__\u001b[1;34m(self, key)\u001b[0m\n\u001b[0;32m   1037\u001b[0m     \u001b[38;5;28;01mreturn\u001b[39;00m \u001b[38;5;28mself\u001b[39m\u001b[38;5;241m.\u001b[39m_values[key]\n\u001b[0;32m   1039\u001b[0m \u001b[38;5;28;01melif\u001b[39;00m key_is_scalar:\n\u001b[1;32m-> 1040\u001b[0m     \u001b[38;5;28;01mreturn\u001b[39;00m \u001b[38;5;28mself\u001b[39m\u001b[38;5;241m.\u001b[39m_get_value(key)\n\u001b[0;32m   1042\u001b[0m \u001b[38;5;66;03m# Convert generator to list before going through hashable part\u001b[39;00m\n\u001b[0;32m   1043\u001b[0m \u001b[38;5;66;03m# (We will iterate through the generator there to check for slices)\u001b[39;00m\n\u001b[0;32m   1044\u001b[0m \u001b[38;5;28;01mif\u001b[39;00m is_iterator(key):\n",
      "File \u001b[1;32m~\\anaconda3\\envs\\deeplearningplatform_2023_fall\\Lib\\site-packages\\pandas\\core\\series.py:1156\u001b[0m, in \u001b[0;36mSeries._get_value\u001b[1;34m(self, label, takeable)\u001b[0m\n\u001b[0;32m   1153\u001b[0m     \u001b[38;5;28;01mreturn\u001b[39;00m \u001b[38;5;28mself\u001b[39m\u001b[38;5;241m.\u001b[39m_values[label]\n\u001b[0;32m   1155\u001b[0m \u001b[38;5;66;03m# Similar to Index.get_value, but we do not fall back to positional\u001b[39;00m\n\u001b[1;32m-> 1156\u001b[0m loc \u001b[38;5;241m=\u001b[39m \u001b[38;5;28mself\u001b[39m\u001b[38;5;241m.\u001b[39mindex\u001b[38;5;241m.\u001b[39mget_loc(label)\n\u001b[0;32m   1158\u001b[0m \u001b[38;5;28;01mif\u001b[39;00m is_integer(loc):\n\u001b[0;32m   1159\u001b[0m     \u001b[38;5;28;01mreturn\u001b[39;00m \u001b[38;5;28mself\u001b[39m\u001b[38;5;241m.\u001b[39m_values[loc]\n",
      "File \u001b[1;32m~\\anaconda3\\envs\\deeplearningplatform_2023_fall\\Lib\\site-packages\\pandas\\core\\indexes\\base.py:3797\u001b[0m, in \u001b[0;36mIndex.get_loc\u001b[1;34m(self, key)\u001b[0m\n\u001b[0;32m   3792\u001b[0m     \u001b[38;5;28;01mif\u001b[39;00m \u001b[38;5;28misinstance\u001b[39m(casted_key, \u001b[38;5;28mslice\u001b[39m) \u001b[38;5;129;01mor\u001b[39;00m (\n\u001b[0;32m   3793\u001b[0m         \u001b[38;5;28misinstance\u001b[39m(casted_key, abc\u001b[38;5;241m.\u001b[39mIterable)\n\u001b[0;32m   3794\u001b[0m         \u001b[38;5;129;01mand\u001b[39;00m \u001b[38;5;28many\u001b[39m(\u001b[38;5;28misinstance\u001b[39m(x, \u001b[38;5;28mslice\u001b[39m) \u001b[38;5;28;01mfor\u001b[39;00m x \u001b[38;5;129;01min\u001b[39;00m casted_key)\n\u001b[0;32m   3795\u001b[0m     ):\n\u001b[0;32m   3796\u001b[0m         \u001b[38;5;28;01mraise\u001b[39;00m InvalidIndexError(key)\n\u001b[1;32m-> 3797\u001b[0m     \u001b[38;5;28;01mraise\u001b[39;00m \u001b[38;5;167;01mKeyError\u001b[39;00m(key) \u001b[38;5;28;01mfrom\u001b[39;00m \u001b[38;5;21;01merr\u001b[39;00m\n\u001b[0;32m   3798\u001b[0m \u001b[38;5;28;01mexcept\u001b[39;00m \u001b[38;5;167;01mTypeError\u001b[39;00m:\n\u001b[0;32m   3799\u001b[0m     \u001b[38;5;66;03m# If we have a listlike key, _check_indexing_error will raise\u001b[39;00m\n\u001b[0;32m   3800\u001b[0m     \u001b[38;5;66;03m#  InvalidIndexError. Otherwise we fall through and re-raise\u001b[39;00m\n\u001b[0;32m   3801\u001b[0m     \u001b[38;5;66;03m#  the TypeError.\u001b[39;00m\n\u001b[0;32m   3802\u001b[0m     \u001b[38;5;28mself\u001b[39m\u001b[38;5;241m.\u001b[39m_check_indexing_error(key)\n",
      "\u001b[1;31mKeyError\u001b[0m: 4"
     ]
    },
    {
     "data": {
      "image/png": "[encoded data removed]",
      "text/plain": [
       "<Figure size 1500x500 with 1 Axes>"
      ]
     },
     "metadata": {},
     "output_type": "display_data"
    }
   ],
   "source": [
    "import matplotlib.pyplot as plt\n",
    "\n",
    "# Replace these with your actual values for '대수' 21\n",
    "actual_a_21 = 84\n",
    "actual_b_21 = 163\n",
    "actual_c_21 = 6\n",
    "x_ticks = [17, 18, 19, 20, 21]\n",
    "\n",
    "# Add the actual values for '대수' 21 to the DataFrame\n",
    "df.loc[5] = [21, actual_a_21, actual_b_21, actual_c_21, 253]\n",
    "\n",
    "# Plotting\n",
    "plt.figure(figsize=(15, 5))\n",
    "\n",
    "# Plot for 'a'\n",
    "plt.subplot(1, 3, 1)\n",
    "plt.scatter(df['대수'][:4], df['a'][:4], color='blue', label='Actual (17-20)')\n",
    "plt.scatter(df['대수'][4], df['a'][4], color='green', label='Predicted (21)')\n",
    "plt.scatter(df['대수'][5], df['a'][5], color='red', label='Actual (21)')\n",
    "plt.title('Actual vs Predicted for a')\n",
    "plt.xlabel('대수')\n",
    "plt.ylabel('a')\n",
    "plt.xticks(x_ticks)  \n",
    "plt.legend()\n",
    "\n",
    "# Plot for 'b'\n",
    "plt.subplot(1, 3, 2)\n",
    "plt.scatter(df['대수'][:4], df['b'][:4], color='blue', label='Actual (17-20)')\n",
    "plt.scatter(df['대수'][4], df['b'][4], color='green', label='Predicted (21)')\n",
    "plt.scatter(df['대수'][5], df['b'][5], color='red', label='Actual (21)')\n",
    "plt.title('Actual vs Predicted for b')\n",
    "plt.xlabel('대수')\n",
    "plt.ylabel('b')\n",
    "plt.xticks(x_ticks) \n",
    "plt.legend()\n",
    "\n",
    "# Plot for 'c'\n",
    "plt.subplot(1, 3, 3)\n",
    "plt.scatter(df['대수'][:4], df['c'][:4], color='blue', label='Actual (17-20)')\n",
    "plt.scatter(df['대수'][4], df['c'][4], color='green', label='Predicted (21)')\n",
    "plt.scatter(df['대수'][5], df['c'][5], color='red', label='Actual (21)')\n",
    "plt.title('Actual vs Predicted for c')\n",
    "plt.xlabel('대수')\n",
    "plt.ylabel('c')\n",
    "plt.xticks(x_ticks)  \n",
    "plt.legend()\n",
    "\n",
    "plt.tight_layout()\n",
    "plt.show()\n"
   ]
  },
  {
   "cell_type": "code",
   "execution_count": 51,
   "metadata": {},
   "outputs": [
    {
     "data": {
      "text/html": [
       "<style>#sk-container-id-11 {color: black;}#sk-container-id-11 pre{padding: 0;}#sk-container-id-11 div.sk-toggleable {background-color: white;}#sk-container-id-11 label.sk-toggleable__label {cursor: pointer;display: block;width: 100%;margin-bottom: 0;padding: 0.3em;box-sizing: border-box;text-align: center;}#sk-container-id-11 label.sk-toggleable__label-arrow:before {content: \"▸\";float: left;margin-right: 0.25em;color: #696969;}#sk-container-id-11 label.sk-toggleable__label-arrow:hover:before {color: black;}#sk-container-id-11 div.sk-estimator:hover label.sk-toggleable__label-arrow:before {color: black;}#sk-container-id-11 div.sk-toggleable__content {max-height: 0;max-width: 0;overflow: hidden;text-align: left;background-color: #f0f8ff;}#sk-container-id-11 div.sk-toggleable__content pre {margin: 0.2em;color: black;border-radius: 0.25em;background-color: #f0f8ff;}#sk-container-id-11 input.sk-toggleable__control:checked~div.sk-toggleable__content {max-height: 200px;max-width: 100%;overflow: auto;}#sk-container-id-11 input.sk-toggleable__control:checked~label.sk-toggleable__label-arrow:before {content: \"▾\";}#sk-container-id-11 div.sk-estimator input.sk-toggleable__control:checked~label.sk-toggleable__label {background-color: #d4ebff;}#sk-container-id-11 div.sk-label input.sk-toggleable__control:checked~label.sk-toggleable__label {background-color: #d4ebff;}#sk-container-id-11 input.sk-hidden--visually {border: 0;clip: rect(1px 1px 1px 1px);clip: rect(1px, 1px, 1px, 1px);height: 1px;margin: -1px;overflow: hidden;padding: 0;position: absolute;width: 1px;}#sk-container-id-11 div.sk-estimator {font-family: monospace;background-color: #f0f8ff;border: 1px dotted black;border-radius: 0.25em;box-sizing: border-box;margin-bottom: 0.5em;}#sk-container-id-11 div.sk-estimator:hover {background-color: #d4ebff;}#sk-container-id-11 div.sk-parallel-item::after {content: \"\";width: 100%;border-bottom: 1px solid gray;flex-grow: 1;}#sk-container-id-11 div.sk-label:hover label.sk-toggleable__label {background-color: #d4ebff;}#sk-container-id-11 div.sk-serial::before {content: \"\";position: absolute;border-left: 1px solid gray;box-sizing: border-box;top: 0;bottom: 0;left: 50%;z-index: 0;}#sk-container-id-11 div.sk-serial {display: flex;flex-direction: column;align-items: center;background-color: white;padding-right: 0.2em;padding-left: 0.2em;position: relative;}#sk-container-id-11 div.sk-item {position: relative;z-index: 1;}#sk-container-id-11 div.sk-parallel {display: flex;align-items: stretch;justify-content: center;background-color: white;position: relative;}#sk-container-id-11 div.sk-item::before, #sk-container-id-11 div.sk-parallel-item::before {content: \"\";position: absolute;border-left: 1px solid gray;box-sizing: border-box;top: 0;bottom: 0;left: 50%;z-index: -1;}#sk-container-id-11 div.sk-parallel-item {display: flex;flex-direction: column;z-index: 1;position: relative;background-color: white;}#sk-container-id-11 div.sk-parallel-item:first-child::after {align-self: flex-end;width: 50%;}#sk-container-id-11 div.sk-parallel-item:last-child::after {align-self: flex-start;width: 50%;}#sk-container-id-11 div.sk-parallel-item:only-child::after {width: 0;}#sk-container-id-11 div.sk-dashed-wrapped {border: 1px dashed gray;margin: 0 0.4em 0.5em 0.4em;box-sizing: border-box;padding-bottom: 0.4em;background-color: white;}#sk-container-id-11 div.sk-label label {font-family: monospace;font-weight: bold;display: inline-block;line-height: 1.2em;}#sk-container-id-11 div.sk-label-container {text-align: center;}#sk-container-id-11 div.sk-container {/* jupyter's `normalize.less` sets `[hidden] { display: none; }` but bootstrap.min.css set `[hidden] { display: none !important; }` so we also need the `!important` here to be able to override the default hidden behavior on the sphinx rendered scikit-learn.org. See: https://github.com/scikit-learn/scikit-learn/issues/21755 */display: inline-block !important;position: relative;}#sk-container-id-11 div.sk-text-repr-fallback {display: none;}</style><div id=\"sk-container-id-11\" class=\"sk-top-container\"><div class=\"sk-text-repr-fallback\"><pre>RandomForestRegressor(random_state=42)</pre><b>In a Jupyter environment, please rerun this cell to show the HTML representation or trust the notebook. <br />On GitHub, the HTML representation is unable to render, please try loading this page with nbviewer.org.</b></div><div class=\"sk-container\" hidden><div class=\"sk-item\"><div class=\"sk-estimator sk-toggleable\"><input class=\"sk-toggleable__control sk-hidden--visually\" id=\"sk-estimator-id-11\" type=\"checkbox\" checked><label for=\"sk-estimator-id-11\" class=\"sk-toggleable__label sk-toggleable__label-arrow\">RandomForestRegressor</label><div class=\"sk-toggleable__content\"><pre>RandomForestRegressor(random_state=42)</pre></div></div></div></div></div>"
      ],
      "text/plain": [
       "RandomForestRegressor(random_state=42)"
      ]
     },
     "execution_count": 51,
     "metadata": {},
     "output_type": "execute_result"
    }
   ],
   "source": [
    "# 데이터 리스트 만들기\n",
    "data_new = {\n",
    "    '대수': [17, 18, 19, 20],\n",
    "    'c': [12, 17, 8, 17],\n",
    "    '총석수': [56, 54, 54, 47]\n",
    "}\n",
    "\n",
    "df_new = pd.DataFrame(data_new)\n",
    "\n",
    "# 17대 18대 19대 데이터를 47석 비율에 맞게 수정하기\n",
    "df_new['c'] = df_new['c'] / df_new['총석수'] * 47\n",
    "\n",
    "# 훈련 데이터 및 레이블 생성\n",
    "X_new = df_new[['대수']]\n",
    "y_c_new = df_new['c']\n",
    "\n",
    "# 머신러닝(회귀분석) 모델 훈련\n",
    "model_c_new = RandomForestRegressor(n_estimators=100, random_state=42)\n",
    "model_c_new.fit(X_new, y_c_new)"
   ]
  },
  {
   "cell_type": "code",
   "execution_count": 52,
   "metadata": {},
   "outputs": [
    {
     "name": "stdout",
     "output_type": "stream",
     "text": [
      "21대 정당득표율 - C: 0.32\n"
     ]
    }
   ],
   "source": [
    "# 21대 의석 예측\n",
    "future_data_new = {'대수': [21]}\n",
    "future_df_new = pd.DataFrame(future_data_new)\n",
    "\n",
    "predicted_c_new = model_c_new.predict(future_df_new)[0]\n",
    "\n",
    "# 예측값을 반올림하고, 총 의석수가 47이 되도록 조정\n",
    "predicted_c_new = int(round(predicted_c_new))\n",
    "\n",
    "# 예상 의석 수에 비례하는 c당의 정당 득표율 계산\n",
    "predicted_c_new = predicted_c_new / 47\n",
    "\n",
    "print(f\"21대 정당득표율 - C: {predicted_c_new:.2f}\")"
   ]
  },
  {
   "cell_type": "code",
   "execution_count": 78,
   "metadata": {},
   "outputs": [
    {
     "data": {
      "text/plain": [
       "0    0.142857\n",
       "1    0.588235\n",
       "2    0.268908\n",
       "Name: ratio, dtype: float64"
      ]
     },
     "execution_count": 78,
     "metadata": {},
     "output_type": "execute_result"
    }
   ],
   "source": [
    "#득표율의 총합이 1이 되도록 수정\n",
    "ratios = [0.17, 0.70, 0.32]\n",
    "ratios_df = pd.DataFrame(ratios, columns=['ratio'])\n",
    "original_sum = ratios_df['ratio'].sum()\n",
    "\n",
    "target_sum = 1\n",
    "\n",
    "# 가중치 계산\n",
    "scaling_factor = target_sum / original_sum\n",
    "\n",
    "# 가중치 적용된 새로운 득표율\n",
    "scaled_ratios = ratios_df['ratio'] * scaling_factor\n",
    "\n",
    "scaled_ratios_sum = scaled_ratios.sum()\n",
    "scaled_ratios"
   ]
  },
  {
   "cell_type": "code",
   "execution_count": 79,
   "metadata": {
    "scrolled": true
   },
   "outputs": [
    {
     "name": "stdout",
     "output_type": "stream",
     "text": [
      "병립형 비례의석 수 - A: 2.0, B: 10.0, C: 5.0\n"
     ]
    }
   ],
   "source": [
    "# 병립형 비례 의석 구하기\n",
    "byeong_a = (scaled_ratios[0] * 17).round()\n",
    "byeong_b = (scaled_ratios[1] * 17).round()\n",
    "byeong_c = (scaled_ratios[2] * 17).round()\n",
    "\n",
    "print(f\"병립형 비례의석 수 - A: {byeong_a}, B: {byeong_b}, C: {byeong_c}\")"
   ]
  },
  {
   "cell_type": "code",
   "execution_count": 55,
   "metadata": {
    "scrolled": true
   },
   "outputs": [
    {
     "name": "stdout",
     "output_type": "stream",
     "text": [
      "-35.5 35.0 23.5\n"
     ]
    }
   ],
   "source": [
    "#준연동형 비례의석 수\n",
    "\n",
    "A = (300*((scaled_ratios[0]).round(2))-int(predicted_a))/2\n",
    "B = (300*((scaled_ratios[1]).round(2))-int(predicted_b))/2\n",
    "C = (300*((scaled_ratios[2]).round(2))-int(predicted_c))/2\n",
    "print(A, B, C)"
   ]
  },
  {
   "cell_type": "code",
   "execution_count": 56,
   "metadata": {},
   "outputs": [
    {
     "data": {
      "text/plain": [
       "0    17.948718\n",
       "1    12.051282\n",
       "Name: ratio, dtype: float64"
      ]
     },
     "execution_count": 56,
     "metadata": {},
     "output_type": "execute_result"
    }
   ],
   "source": [
    "#준연동형 비례의석 30석에 맞도록 재분배\n",
    "ratios = [B, C]\n",
    "ratios_df = pd.DataFrame(ratios, columns=['ratio'])\n",
    "original_sum = ratios_df['ratio'].sum()\n",
    "\n",
    "target_sum = 30\n",
    "\n",
    "# 가중치 계산\n",
    "scaling_factor = target_sum / original_sum\n",
    "\n",
    "# 가중치 적용된 새로운 득표율\n",
    "scaled_ratios = ratios_df['ratio'] * scaling_factor\n",
    "\n",
    "scaled_ratios_sum = scaled_ratios.sum()\n",
    "scaled_ratios"
   ]
  },
  {
   "cell_type": "markdown",
   "metadata": {},
   "source": [
    "# 22대 의석 예측"
   ]
  },
  {
   "cell_type": "code",
   "execution_count": 57,
   "metadata": {
    "id": "dR-e3CeiJmq3"
   },
   "outputs": [],
   "source": [
    "# 데이터 리스트 만들기\n",
    "data = {\n",
    "    '대수': [17, 18, 19, 20, 21],\n",
    "    'a': [100, 131, 127, 105, 84],\n",
    "    'b': [129, 66, 106, 110, 163],\n",
    "    'c': [14, 47, 13, 38, 6],\n",
    "    '총석수': [243, 244, 253, 253, 253]\n",
    "}\n"
   ]
  },
  {
   "cell_type": "code",
   "execution_count": 58,
   "metadata": {
    "id": "oCMj1mL0JmtK"
   },
   "outputs": [],
   "source": [
    "df = pd.DataFrame(data)"
   ]
  },
  {
   "cell_type": "code",
   "execution_count": 59,
   "metadata": {
    "id": "SAzs9jUHJmvQ"
   },
   "outputs": [],
   "source": [
    "# 17대 18대 데이터를 253석 비율에 맞게 수정하기\n",
    "df['a'] = df['a'] / df['총석수'] * 253\n",
    "df['b'] = df['b'] / df['총석수'] * 253\n",
    "df['c'] = df['c'] / df['총석수'] * 253\n"
   ]
  },
  {
   "cell_type": "code",
   "execution_count": 60,
   "metadata": {
    "id": "paJPIlY9JvEd"
   },
   "outputs": [],
   "source": [
    "# 훈련 데이터 및 레이블 생성\n",
    "X = df[['대수']]\n",
    "y_a = df['a']\n",
    "y_b = df['b']\n",
    "y_c = df['c']"
   ]
  },
  {
   "cell_type": "code",
   "execution_count": 61,
   "metadata": {
    "colab": {
     "base_uri": "https://localhost:8080/",
     "height": 75
    },
    "id": "IW1mO5FEJvHW",
    "outputId": "297889eb-3217-49dc-9472-46fddb4c4c44"
   },
   "outputs": [
    {
     "data": {
      "text/html": [
       "<style>#sk-container-id-12 {color: black;}#sk-container-id-12 pre{padding: 0;}#sk-container-id-12 div.sk-toggleable {background-color: white;}#sk-container-id-12 label.sk-toggleable__label {cursor: pointer;display: block;width: 100%;margin-bottom: 0;padding: 0.3em;box-sizing: border-box;text-align: center;}#sk-container-id-12 label.sk-toggleable__label-arrow:before {content: \"▸\";float: left;margin-right: 0.25em;color: #696969;}#sk-container-id-12 label.sk-toggleable__label-arrow:hover:before {color: black;}#sk-container-id-12 div.sk-estimator:hover label.sk-toggleable__label-arrow:before {color: black;}#sk-container-id-12 div.sk-toggleable__content {max-height: 0;max-width: 0;overflow: hidden;text-align: left;background-color: #f0f8ff;}#sk-container-id-12 div.sk-toggleable__content pre {margin: 0.2em;color: black;border-radius: 0.25em;background-color: #f0f8ff;}#sk-container-id-12 input.sk-toggleable__control:checked~div.sk-toggleable__content {max-height: 200px;max-width: 100%;overflow: auto;}#sk-container-id-12 input.sk-toggleable__control:checked~label.sk-toggleable__label-arrow:before {content: \"▾\";}#sk-container-id-12 div.sk-estimator input.sk-toggleable__control:checked~label.sk-toggleable__label {background-color: #d4ebff;}#sk-container-id-12 div.sk-label input.sk-toggleable__control:checked~label.sk-toggleable__label {background-color: #d4ebff;}#sk-container-id-12 input.sk-hidden--visually {border: 0;clip: rect(1px 1px 1px 1px);clip: rect(1px, 1px, 1px, 1px);height: 1px;margin: -1px;overflow: hidden;padding: 0;position: absolute;width: 1px;}#sk-container-id-12 div.sk-estimator {font-family: monospace;background-color: #f0f8ff;border: 1px dotted black;border-radius: 0.25em;box-sizing: border-box;margin-bottom: 0.5em;}#sk-container-id-12 div.sk-estimator:hover {background-color: #d4ebff;}#sk-container-id-12 div.sk-parallel-item::after {content: \"\";width: 100%;border-bottom: 1px solid gray;flex-grow: 1;}#sk-container-id-12 div.sk-label:hover label.sk-toggleable__label {background-color: #d4ebff;}#sk-container-id-12 div.sk-serial::before {content: \"\";position: absolute;border-left: 1px solid gray;box-sizing: border-box;top: 0;bottom: 0;left: 50%;z-index: 0;}#sk-container-id-12 div.sk-serial {display: flex;flex-direction: column;align-items: center;background-color: white;padding-right: 0.2em;padding-left: 0.2em;position: relative;}#sk-container-id-12 div.sk-item {position: relative;z-index: 1;}#sk-container-id-12 div.sk-parallel {display: flex;align-items: stretch;justify-content: center;background-color: white;position: relative;}#sk-container-id-12 div.sk-item::before, #sk-container-id-12 div.sk-parallel-item::before {content: \"\";position: absolute;border-left: 1px solid gray;box-sizing: border-box;top: 0;bottom: 0;left: 50%;z-index: -1;}#sk-container-id-12 div.sk-parallel-item {display: flex;flex-direction: column;z-index: 1;position: relative;background-color: white;}#sk-container-id-12 div.sk-parallel-item:first-child::after {align-self: flex-end;width: 50%;}#sk-container-id-12 div.sk-parallel-item:last-child::after {align-self: flex-start;width: 50%;}#sk-container-id-12 div.sk-parallel-item:only-child::after {width: 0;}#sk-container-id-12 div.sk-dashed-wrapped {border: 1px dashed gray;margin: 0 0.4em 0.5em 0.4em;box-sizing: border-box;padding-bottom: 0.4em;background-color: white;}#sk-container-id-12 div.sk-label label {font-family: monospace;font-weight: bold;display: inline-block;line-height: 1.2em;}#sk-container-id-12 div.sk-label-container {text-align: center;}#sk-container-id-12 div.sk-container {/* jupyter's `normalize.less` sets `[hidden] { display: none; }` but bootstrap.min.css set `[hidden] { display: none !important; }` so we also need the `!important` here to be able to override the default hidden behavior on the sphinx rendered scikit-learn.org. See: https://github.com/scikit-learn/scikit-learn/issues/21755 */display: inline-block !important;position: relative;}#sk-container-id-12 div.sk-text-repr-fallback {display: none;}</style><div id=\"sk-container-id-12\" class=\"sk-top-container\"><div class=\"sk-text-repr-fallback\"><pre>RandomForestRegressor(random_state=42)</pre><b>In a Jupyter environment, please rerun this cell to show the HTML representation or trust the notebook. <br />On GitHub, the HTML representation is unable to render, please try loading this page with nbviewer.org.</b></div><div class=\"sk-container\" hidden><div class=\"sk-item\"><div class=\"sk-estimator sk-toggleable\"><input class=\"sk-toggleable__control sk-hidden--visually\" id=\"sk-estimator-id-12\" type=\"checkbox\" checked><label for=\"sk-estimator-id-12\" class=\"sk-toggleable__label sk-toggleable__label-arrow\">RandomForestRegressor</label><div class=\"sk-toggleable__content\"><pre>RandomForestRegressor(random_state=42)</pre></div></div></div></div></div>"
      ],
      "text/plain": [
       "RandomForestRegressor(random_state=42)"
      ]
     },
     "execution_count": 61,
     "metadata": {},
     "output_type": "execute_result"
    }
   ],
   "source": [
    "# 머신러닝 모델 훈련\n",
    "model_a = RandomForestRegressor(n_estimators=100, random_state=42)\n",
    "model_a.fit(X, y_a)\n",
    "\n",
    "model_b = RandomForestRegressor(n_estimators=100, random_state=42)\n",
    "model_b.fit(X, y_b)\n",
    "\n",
    "model_c = RandomForestRegressor(n_estimators=100, random_state=42)\n",
    "model_c.fit(X, y_c)"
   ]
  },
  {
   "cell_type": "code",
   "execution_count": 62,
   "metadata": {
    "colab": {
     "base_uri": "https://localhost:8080/"
    },
    "id": "mBjj7cCWJvJl",
    "outputId": "40c64434-a0c4-455d-91e1-d89500850947"
   },
   "outputs": [
    {
     "name": "stdout",
     "output_type": "stream",
     "text": [
      "22대 지역구 예상 의석 - A: 94, B: 144, C: 15\n"
     ]
    }
   ],
   "source": [
    "# 22대 의석 예측\n",
    "future_data = {'대수': [22]}\n",
    "future_df = pd.DataFrame(future_data)\n",
    "\n",
    "predicted_a = model_a.predict(future_df)[0]\n",
    "predicted_b = model_b.predict(future_df)[0]\n",
    "predicted_c = model_c.predict(future_df)[0]\n",
    "\n",
    "# 예측값을 반올림하고, 합이 253이 되도록 조정\n",
    "total_predicted_seats = round(predicted_a) + round(predicted_b) + round(predicted_c)\n",
    "\n",
    "# 각 정당 예측 의석수를 조정\n",
    "predicted_a = round(predicted_a + (253 - total_predicted_seats) * (predicted_a / total_predicted_seats))\n",
    "predicted_b = round(predicted_b + (253 - total_predicted_seats) * (predicted_b / total_predicted_seats))\n",
    "predicted_c = round(predicted_c + (253 - total_predicted_seats) * (predicted_c / total_predicted_seats))\n",
    "\n",
    "print(f\"22대 지역구 예상 의석 - A: {int(predicted_a)}, B: {int(predicted_b)}, C: {int(predicted_c)}\")"
   ]
  },
  {
   "cell_type": "markdown",
   "metadata": {
    "id": "IGmE9RzkPDra"
   },
   "source": [
    "22대 지역구 예상의석은 A(국민의 힘): 94석 B(더불어 민주당): 144석 C(그 외): 15석"
   ]
  },
  {
   "cell_type": "markdown",
   "metadata": {
    "id": "PM9WFDutPbYD"
   },
   "source": [
    "비례대표 예상의석의 경우 A와 B 양당은 댓글 분석을 통한 비율로 예측하고 C는 17대 ~ 21대에 해당하는 비율을 회귀분석으로 예측한다."
   ]
  },
  {
   "cell_type": "code",
   "execution_count": 63,
   "metadata": {
    "colab": {
     "base_uri": "https://localhost:8080/",
     "height": 75
    },
    "id": "TeIImetdPAxH",
    "outputId": "7e505f5b-b2c0-4fd4-9d7d-93e7f032576e"
   },
   "outputs": [
    {
     "data": {
      "text/html": [
       "<style>#sk-container-id-13 {color: black;}#sk-container-id-13 pre{padding: 0;}#sk-container-id-13 div.sk-toggleable {background-color: white;}#sk-container-id-13 label.sk-toggleable__label {cursor: pointer;display: block;width: 100%;margin-bottom: 0;padding: 0.3em;box-sizing: border-box;text-align: center;}#sk-container-id-13 label.sk-toggleable__label-arrow:before {content: \"▸\";float: left;margin-right: 0.25em;color: #696969;}#sk-container-id-13 label.sk-toggleable__label-arrow:hover:before {color: black;}#sk-container-id-13 div.sk-estimator:hover label.sk-toggleable__label-arrow:before {color: black;}#sk-container-id-13 div.sk-toggleable__content {max-height: 0;max-width: 0;overflow: hidden;text-align: left;background-color: #f0f8ff;}#sk-container-id-13 div.sk-toggleable__content pre {margin: 0.2em;color: black;border-radius: 0.25em;background-color: #f0f8ff;}#sk-container-id-13 input.sk-toggleable__control:checked~div.sk-toggleable__content {max-height: 200px;max-width: 100%;overflow: auto;}#sk-container-id-13 input.sk-toggleable__control:checked~label.sk-toggleable__label-arrow:before {content: \"▾\";}#sk-container-id-13 div.sk-estimator input.sk-toggleable__control:checked~label.sk-toggleable__label {background-color: #d4ebff;}#sk-container-id-13 div.sk-label input.sk-toggleable__control:checked~label.sk-toggleable__label {background-color: #d4ebff;}#sk-container-id-13 input.sk-hidden--visually {border: 0;clip: rect(1px 1px 1px 1px);clip: rect(1px, 1px, 1px, 1px);height: 1px;margin: -1px;overflow: hidden;padding: 0;position: absolute;width: 1px;}#sk-container-id-13 div.sk-estimator {font-family: monospace;background-color: #f0f8ff;border: 1px dotted black;border-radius: 0.25em;box-sizing: border-box;margin-bottom: 0.5em;}#sk-container-id-13 div.sk-estimator:hover {background-color: #d4ebff;}#sk-container-id-13 div.sk-parallel-item::after {content: \"\";width: 100%;border-bottom: 1px solid gray;flex-grow: 1;}#sk-container-id-13 div.sk-label:hover label.sk-toggleable__label {background-color: #d4ebff;}#sk-container-id-13 div.sk-serial::before {content: \"\";position: absolute;border-left: 1px solid gray;box-sizing: border-box;top: 0;bottom: 0;left: 50%;z-index: 0;}#sk-container-id-13 div.sk-serial {display: flex;flex-direction: column;align-items: center;background-color: white;padding-right: 0.2em;padding-left: 0.2em;position: relative;}#sk-container-id-13 div.sk-item {position: relative;z-index: 1;}#sk-container-id-13 div.sk-parallel {display: flex;align-items: stretch;justify-content: center;background-color: white;position: relative;}#sk-container-id-13 div.sk-item::before, #sk-container-id-13 div.sk-parallel-item::before {content: \"\";position: absolute;border-left: 1px solid gray;box-sizing: border-box;top: 0;bottom: 0;left: 50%;z-index: -1;}#sk-container-id-13 div.sk-parallel-item {display: flex;flex-direction: column;z-index: 1;position: relative;background-color: white;}#sk-container-id-13 div.sk-parallel-item:first-child::after {align-self: flex-end;width: 50%;}#sk-container-id-13 div.sk-parallel-item:last-child::after {align-self: flex-start;width: 50%;}#sk-container-id-13 div.sk-parallel-item:only-child::after {width: 0;}#sk-container-id-13 div.sk-dashed-wrapped {border: 1px dashed gray;margin: 0 0.4em 0.5em 0.4em;box-sizing: border-box;padding-bottom: 0.4em;background-color: white;}#sk-container-id-13 div.sk-label label {font-family: monospace;font-weight: bold;display: inline-block;line-height: 1.2em;}#sk-container-id-13 div.sk-label-container {text-align: center;}#sk-container-id-13 div.sk-container {/* jupyter's `normalize.less` sets `[hidden] { display: none; }` but bootstrap.min.css set `[hidden] { display: none !important; }` so we also need the `!important` here to be able to override the default hidden behavior on the sphinx rendered scikit-learn.org. See: https://github.com/scikit-learn/scikit-learn/issues/21755 */display: inline-block !important;position: relative;}#sk-container-id-13 div.sk-text-repr-fallback {display: none;}</style><div id=\"sk-container-id-13\" class=\"sk-top-container\"><div class=\"sk-text-repr-fallback\"><pre>RandomForestRegressor(random_state=42)</pre><b>In a Jupyter environment, please rerun this cell to show the HTML representation or trust the notebook. <br />On GitHub, the HTML representation is unable to render, please try loading this page with nbviewer.org.</b></div><div class=\"sk-container\" hidden><div class=\"sk-item\"><div class=\"sk-estimator sk-toggleable\"><input class=\"sk-toggleable__control sk-hidden--visually\" id=\"sk-estimator-id-13\" type=\"checkbox\" checked><label for=\"sk-estimator-id-13\" class=\"sk-toggleable__label sk-toggleable__label-arrow\">RandomForestRegressor</label><div class=\"sk-toggleable__content\"><pre>RandomForestRegressor(random_state=42)</pre></div></div></div></div></div>"
      ],
      "text/plain": [
       "RandomForestRegressor(random_state=42)"
      ]
     },
     "execution_count": 63,
     "metadata": {},
     "output_type": "execute_result"
    }
   ],
   "source": [
    "# 데이터 리스트 만들기\n",
    "data_new = {\n",
    "    '대수': [17, 18, 19, 20, 21],\n",
    "    'c': [12, 17, 8, 17, 11],\n",
    "    '총석수': [56, 54, 54, 47, 47]\n",
    "}\n",
    "\n",
    "df_new = pd.DataFrame(data_new)\n",
    "\n",
    "# 17대 18대 19대 데이터를 47석 비율에 맞게 수정하기\n",
    "df_new['c'] = df_new['c'] / df_new['총석수'] * 47\n",
    "\n",
    "# 훈련 데이터 및 레이블 생성\n",
    "X_new = df_new[['대수']]\n",
    "y_c_new = df_new['c']\n",
    "\n",
    "# 머신러닝(회귀분석) 모델 훈련\n",
    "model_c_new = RandomForestRegressor(n_estimators=100, random_state=42)\n",
    "model_c_new.fit(X_new, y_c_new)"
   ]
  },
  {
   "cell_type": "code",
   "execution_count": 64,
   "metadata": {
    "colab": {
     "base_uri": "https://localhost:8080/"
    },
    "id": "Z_xmbRqJRHfV",
    "outputId": "473b6cc2-4d9c-43d6-ccf3-b740a0f43240"
   },
   "outputs": [
    {
     "name": "stdout",
     "output_type": "stream",
     "text": [
      "22대 정당득표율 - C: 0.26\n"
     ]
    }
   ],
   "source": [
    "# 22대 의석 예측\n",
    "future_data_new = {'대수': [22]}\n",
    "future_df_new = pd.DataFrame(future_data_new)\n",
    "\n",
    "predicted_c_new = model_c_new.predict(future_df_new)[0]\n",
    "\n",
    "# 예측값을 반올림하고, 총 의석수가 47이 되도록 조정\n",
    "predicted_c_new = int(round(predicted_c_new))\n",
    "\n",
    "# 예상 의석 수에 비례하는 c당의 정당 득표율 계산\n",
    "predicted_c_new = predicted_c_new / 47\n",
    "\n",
    "print(f\"22대 정당득표율 - C: {predicted_c_new:.2f}\")"
   ]
  },
  {
   "cell_type": "code",
   "execution_count": 69,
   "metadata": {},
   "outputs": [
    {
     "data": {
      "text/plain": [
       "0    0.398693\n",
       "1    0.431373\n",
       "2    0.169935\n",
       "Name: ratio, dtype: float64"
      ]
     },
     "execution_count": 69,
     "metadata": {},
     "output_type": "execute_result"
    }
   ],
   "source": [
    "#득표율의 총합이 1이 되도록 수정\n",
    "ratios = [0.61, 0.66, 0.26]\n",
    "ratios_df = pd.DataFrame(ratios, columns=['ratio'])\n",
    "original_sum = ratios_df['ratio'].sum()\n",
    "\n",
    "target_sum = 1\n",
    "\n",
    "# 가중치 계산\n",
    "scaling_factor = target_sum / original_sum\n",
    "\n",
    "# 가중치 적용된 새로운 득표율\n",
    "scaled_ratios = ratios_df['ratio'] * scaling_factor\n",
    "\n",
    "scaled_ratios_sum = scaled_ratios.sum()\n",
    "scaled_ratios"
   ]
  },
  {
   "cell_type": "markdown",
   "metadata": {
    "id": "H0_-KFJJNl9N"
   },
   "source": [
    "22대 정당득표율을 바탕으로 비례대표 의석수 계산한다.\n",
    "\n",
    "---\n",
    "\n",
    "준연동형 비례 : 연동형 30석에 정당득표율 50%를 반영한 값\n",
    "\n",
    "병립형 비례 : 17석에 한해 정당득표율을 계산한 값\n",
    "\n",
    "\n",
    "\n"
   ]
  },
  {
   "cell_type": "code",
   "execution_count": 70,
   "metadata": {
    "colab": {
     "base_uri": "https://localhost:8080/"
    },
    "id": "FsVq_W6kNj_x",
    "outputId": "ffc5d6ee-69af-431c-e945-b7d1c20b7f1e"
   },
   "outputs": [
    {
     "name": "stdout",
     "output_type": "stream",
     "text": [
      "병립형 비례의석 수 - A: 7.0, B: 7.0, C: 3.0\n"
     ]
    }
   ],
   "source": [
    "# 병립형 비례 의석 구하기\n",
    "byeong_a = (scaled_ratios[0] * 17).round()\n",
    "byeong_b = (scaled_ratios[1] * 17).round()\n",
    "byeong_c = (scaled_ratios[2] * 17).round()\n",
    "\n",
    "print(f\"병립형 비례의석 수 - A: {byeong_a}, B: {byeong_b}, C: {byeong_c}\")"
   ]
  },
  {
   "cell_type": "code",
   "execution_count": 71,
   "metadata": {},
   "outputs": [
    {
     "name": "stdout",
     "output_type": "stream",
     "text": [
      "13.0 -7.5 18.000000000000004\n"
     ]
    }
   ],
   "source": [
    "#준연동형 비례의석 수\n",
    "\n",
    "A = (300*((scaled_ratios[0]).round(2))-int(predicted_a))/2\n",
    "B = (300*((scaled_ratios[1]).round(2))-int(predicted_b))/2\n",
    "C = (300*((scaled_ratios[2]).round(2))-int(predicted_c))/2\n",
    "print(A, B, C)"
   ]
  },
  {
   "cell_type": "code",
   "execution_count": 72,
   "metadata": {},
   "outputs": [
    {
     "data": {
      "text/plain": [
       "0    12.580645\n",
       "1    17.419355\n",
       "Name: ratio, dtype: float64"
      ]
     },
     "execution_count": 72,
     "metadata": {},
     "output_type": "execute_result"
    }
   ],
   "source": [
    "#준연동형 비례의석 30석에 맞도록 재분배\n",
    "ratios = [A, C]\n",
    "ratios_df = pd.DataFrame(ratios, columns=['ratio'])\n",
    "original_sum = ratios_df['ratio'].sum()\n",
    "\n",
    "target_sum = 30\n",
    "\n",
    "# 가중치 계산\n",
    "scaling_factor = target_sum / original_sum\n",
    "\n",
    "# 가중치 적용된 새로운 득표율\n",
    "scaled_ratios = ratios_df['ratio'] * scaling_factor\n",
    "\n",
    "scaled_ratios_sum = scaled_ratios.sum()\n",
    "scaled_ratios"
   ]
  }
 ],
 "metadata": {
  "colab": {
   "provenance": []
  },
  "kernelspec": {
   "display_name": "Python 3 (ipykernel)",
   "language": "python",
   "name": "python3"
  },
  "language_info": {
   "codemirror_mode": {
    "name": "ipython",
    "version": 3
   },
   "file_extension": ".py",
   "mimetype": "text/x-python",
   "name": "python",
   "nbconvert_exporter": "python",
   "pygments_lexer": "ipython3",
   "version": "3.9.18"
  }
 },
 "nbformat": 4,
 "nbformat_minor": 1
}
